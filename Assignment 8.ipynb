{
 "cells": [
  {
   "cell_type": "code",
   "execution_count": null,
   "id": "6e32c1c8-f55f-4cf4-927d-a4160426bc38",
   "metadata": {},
   "outputs": [],
   "source": [
    "                                           Assignment :- 8"
   ]
  },
  {
   "cell_type": "code",
   "execution_count": null,
   "id": "84f038af-7434-4e50-be09-a76fbfe6d817",
   "metadata": {},
   "outputs": [],
   "source": [
    "Q1. You are writing code for a company. The requirement of the company is that you create a python \n",
    "    function that will check whether the password entered by the user is correct or not. The function should \n",
    "    take the password as input and return the string “Valid Password” if the entered password follows the \n",
    "    below-given password guidelines else it should return “Invalid Password”.\n",
    "\n",
    "Note: 1. The Password should contain at least two uppercase letters and at least two lowercase letters.\n",
    "      2. The Password should contain at least a number and three special characters.\n",
    "      3. The length of the password should be 10 characters long."
   ]
  },
  {
   "cell_type": "code",
   "execution_count": 14,
   "id": "82a9938d-7698-4f2c-91cb-6513bfbcc925",
   "metadata": {},
   "outputs": [
    {
     "name": "stdin",
     "output_type": "stream",
     "text": [
      "Enter your password:  SabiR@#$12\n"
     ]
    },
    {
     "name": "stdout",
     "output_type": "stream",
     "text": [
      "Invalid Password. The length should contains 10 character long.\n"
     ]
    }
   ],
   "source": [
    "import re\n",
    "\n",
    "def password_check(password):\n",
    "    #check password should be 10 character long.\n",
    "    if len(password) != 10:\n",
    "        return \"Invalid Password. The length should contains 10 character long.\"\n",
    "\n",
    "    #count the uppercase, lowercase, digit and spcial character \n",
    "    uppercase_count = sum(1 for char in password if char.isupper())\n",
    "    lowercase_count = sum(1 for char in password if char.islower())\n",
    "    digit_count = sum(1 for char in password if char.isdigit())\n",
    "    special_char_count = sum(1 for char in password if re.match(r'[!@#$%^&*(),.?\":{}|<>]',char))\n",
    "\n",
    "    #check if the password meets the criteria\n",
    "    if uppercase_count >=2 and lowercase_count >= 2 and digit_count >= 1 and special_char_count >= 3 :\n",
    "        return \"Valid Password.\"\n",
    "    else :\n",
    "        return \"Invalid Password\"\n",
    "# Example check\n",
    "password_input = input(\"Enter your password: \")\n",
    "result = password_check(password_input)\n",
    "print(result)\n",
    "    "
   ]
  },
  {
   "cell_type": "code",
   "execution_count": null,
   "id": "6f95b03c-0713-49fc-82be-92b1411da702",
   "metadata": {},
   "outputs": [],
   "source": [
    "Q2. Solve the below-given questions using at least one of the following: \n",
    "\n",
    "1. Lambda function\n",
    "2. Filter function\n",
    "3. Map function\n",
    "4. List Comprehension\n",
    "\n",
    "a) Check if the string starts with a particular letter.\n",
    "b) Check if the string is numeric.\n",
    "c) Sort a list of tuples having fruit names and their quantity. [(\"mango\",99),(\"orange\",80), (\"grapes\", 1000)].\n",
    "d) Find the squares of numbers from 1 to 10.\n",
    "e) Find the cube root of numbers from 1 to 10.\n",
    "f) Check if a given number is even.\n",
    "g) Filter odd numbers from the given list. [1,2,3,4,5,6,7,8,9,10]\n",
    "h) Sort a list of integers into positive and negative integers lists. [1,2,3,4,5,6,-1,-2,-3,-4,-5,0]"
   ]
  },
  {
   "cell_type": "code",
   "execution_count": 29,
   "id": "aead4f3a-b6e8-4557-81a0-19feeacceae4",
   "metadata": {},
   "outputs": [
    {
     "name": "stdin",
     "output_type": "stream",
     "text": [
      "Enter a string:  mohammed sabir\n",
      "Enter the letter to check:  sabir\n"
     ]
    },
    {
     "name": "stdout",
     "output_type": "stream",
     "text": [
      "The string does not start with 'sabir'.\n"
     ]
    }
   ],
   "source": [
    "2a)\n",
    "# Using a lambda function with startswith()\n",
    "starts_with_letter = lambda input_string, letter: input_string.startswith(letter)\n",
    "\n",
    "# Example usage:\n",
    "user_input = input(\"Enter a string: \")\n",
    "letter_to_check = input(\"Enter the letter to check: \")\n",
    "\n",
    "if starts_with_letter(user_input, letter_to_check):\n",
    "    print(f\"The string starts with '{letter_to_check}'.\")\n",
    "else:\n",
    "    print(f\"The string does not start with '{letter_to_check}'.\")\n"
   ]
  },
  {
   "cell_type": "code",
   "execution_count": 1,
   "id": "ab1683df-4e6e-4a3a-a90e-939e7e0d1f4d",
   "metadata": {},
   "outputs": [
    {
     "name": "stdin",
     "output_type": "stream",
     "text": [
      "Enter the string :-  123,321,313\n"
     ]
    },
    {
     "name": "stdout",
     "output_type": "stream",
     "text": [
      "The string is numeric.\n"
     ]
    }
   ],
   "source": [
    "# using filter function to check if the string is numeric\n",
    "user_input = input(\"Enter the string :- \")\n",
    "\n",
    "#use filter with lambda funtion to keep only numeric charecters\n",
    "check_numeric_character = filter(lambda x : x.isdigit(), user_input)\n",
    "\n",
    "# Convert the filter result to a list and check if the list is not empty\n",
    "if list(check_numeric_character):\n",
    "    print(f\"The string is numeric.\")\n",
    "else:\n",
    "    print(f\"The string is not numeric.\")\n"
   ]
  },
  {
   "cell_type": "code",
   "execution_count": 13,
   "id": "ec815e87-4b16-47d7-96f3-88c2a44e750d",
   "metadata": {},
   "outputs": [
    {
     "name": "stdout",
     "output_type": "stream",
     "text": [
      "Original list of tuples: [('mango', 99), ('orange', 80), ('grapes', 1000)]\n",
      "Sorted list of tuples based on the second element: [('orange', 80), ('mango', 99), ('grapes', 1000)]\n"
     ]
    }
   ],
   "source": [
    "# Original list of tuples\n",
    "tuple_list = [(\"mango\",99),(\"orange\",80), (\"grapes\", 1000)]\n",
    "\n",
    "# Sort the list of tuples based on the second element using a list comprehension\n",
    "sorted_tuples = sorted(tuple_list, key=lambda x: x[1])\n",
    "\n",
    "print(\"Original list of tuples:\", tuple_list)\n",
    "print(\"Sorted list of tuples based on the second element:\", sorted_tuples)\n"
   ]
  },
  {
   "cell_type": "code",
   "execution_count": 17,
   "id": "9f24f433-7116-470e-b540-8f3a59bc4744",
   "metadata": {},
   "outputs": [
    {
     "name": "stdout",
     "output_type": "stream",
     "text": [
      "[1, 4, 9, 16, 25, 36, 49, 64, 81, 100]\n"
     ]
    }
   ],
   "source": [
    "#find the square of numbers using list_comprehension\n",
    "square = [x**2 for x in range(1,11)]\n",
    "print(square)"
   ]
  },
  {
   "cell_type": "code",
   "execution_count": 3,
   "id": "f9fec3df-0858-4211-abbf-31300bae311a",
   "metadata": {},
   "outputs": [
    {
     "name": "stdout",
     "output_type": "stream",
     "text": [
      "[1.0, 1.259921049894873, 1.4422495703074083, 1.5874010519681994, 1.709975946676697, 1.8171205928321394, 1.9129311827723892, 2.0, 2.080083823051904, 2.154434690031884]\n"
     ]
    }
   ],
   "source": [
    "import math\n",
    "\n",
    "# Find the cube root of numbers using list comprehension\n",
    "cube = [math.cbrt(x) for x in range(1, 11)]\n",
    "print(cube)\n"
   ]
  },
  {
   "cell_type": "code",
   "execution_count": 10,
   "id": "8886b5d5-4898-4b63-a07b-3bda819f6542",
   "metadata": {},
   "outputs": [
    {
     "name": "stdin",
     "output_type": "stream",
     "text": [
      "Enter the number:  2099890\n"
     ]
    },
    {
     "name": "stdout",
     "output_type": "stream",
     "text": [
      "Given number is even\n"
     ]
    }
   ],
   "source": [
    "#check given number is even or not using list_comprehension\n",
    "user_input = int(input(\"Enter the number: \"))\n",
    "\n",
    "check_even_number = \"Given number is even\" if user_input % 2 == 0 else \"Given number is not even\"\n",
    "print(check_even_number)\n"
   ]
  },
  {
   "cell_type": "code",
   "execution_count": null,
   "id": "a7f276b8-42b8-4d3b-8f48-2844ec298623",
   "metadata": {},
   "outputs": [],
   "source": [
    "g) Filter odd numbers from the given list. [1,2,3,4,5,6,7,8,9,10]\n",
    "h) Sort a list of integers into positive and negative integers lists. [1,2,3,4,5,6,-1,-2,-3,-4,-5,0]"
   ]
  },
  {
   "cell_type": "code",
   "execution_count": 11,
   "id": "75c762a3-7b39-421d-b5ac-e953c5adc690",
   "metadata": {},
   "outputs": [
    {
     "name": "stdout",
     "output_type": "stream",
     "text": [
      "[1, 3, 5, 7, 9]\n"
     ]
    }
   ],
   "source": [
    "numbers = [1, 2, 3, 4, 5, 6, 7, 8, 9, 10]\n",
    "\n",
    "# Using filter to keep only odd numbers\n",
    "odd_numbers = filter(lambda x: x % 2 != 0, numbers)\n",
    "\n",
    "# Convert the filter result to a list (for printing purposes)\n",
    "result_list = list(odd_numbers)\n",
    "\n",
    "print(result_list)\n"
   ]
  },
  {
   "cell_type": "code",
   "execution_count": 33,
   "id": "5041c6ea-5062-42c1-852c-db882c08fca2",
   "metadata": {},
   "outputs": [
    {
     "name": "stdout",
     "output_type": "stream",
     "text": [
      "psitive integer list [0, 1, 2, 3, 4, 5, 6].\n",
      "negative integer list [-1, -2, -3, -4, -5].\n"
     ]
    }
   ],
   "source": [
    "def sort_pos_neg(x):\n",
    "    positive_list = []\n",
    "    negative_list = []\n",
    "\n",
    "    for num in x:\n",
    "        if num >= 0:\n",
    "            positive_list.append(num)\n",
    "        else:\n",
    "            negative_list.append(num)\n",
    "\n",
    "    # return positive_list, negative_list\n",
    "    print(f\"psitive integer list {sorted(positive_list)}.\")\n",
    "    print(f\"negative integer list {negative_list}.\")\n",
    "      \n",
    "\n",
    "user_input = [1, 2, 3, 4, 5, 6, -1, -2, -3, -4, -5, 0]\n",
    "pos_neg_num = sort_pos_neg(user_input)"
   ]
  },
  {
   "cell_type": "code",
   "execution_count": 33,
   "id": "94b42873-cf99-4ffd-9e5a-23d3c0bc6218",
   "metadata": {},
   "outputs": [
    {
     "name": "stdout",
     "output_type": "stream",
     "text": [
      "psitive integer list [0, 1, 2, 3, 4, 5, 6].\n",
      "negative integer list [-1, -2, -3, -4, -5].\n"
     ]
    }
   ],
   "source": [
    "def sort_pos_neg(x):\n",
    "    positive_list = []\n",
    "    negative_list = []\n",
    "\n",
    "    for num in x:\n",
    "        if num >= 0:\n",
    "            positive_list.append(num)\n",
    "        else:\n",
    "            negative_list.append(num)\n",
    "\n",
    "    # return positive_list, negative_list\n",
    "    print(f\"psitive integer list {sorted(positive_list)}.\")\n",
    "    print(f\"negative integer list {negative_list}.\")\n",
    "      \n",
    "\n",
    "user_input = [1, 2, 3, 4, 5, 6, -1, -2, -3, -4, -5, 0]\n",
    "pos_neg_num = sort_pos_neg(user_input)"
   ]
  },
  {
   "cell_type": "code",
   "execution_count": 33,
   "id": "9110b746-3f5c-4c08-a918-d083c64ad014",
   "metadata": {},
   "outputs": [
    {
     "name": "stdout",
     "output_type": "stream",
     "text": [
      "psitive integer list [0, 1, 2, 3, 4, 5, 6].\n",
      "negative integer list [-1, -2, -3, -4, -5].\n"
     ]
    }
   ],
   "source": [
    "def sort_pos_neg(x):\n",
    "    positive_list = []\n",
    "    negative_list = []\n",
    "\n",
    "    for num in x:\n",
    "        if num >= 0:\n",
    "            positive_list.append(num)\n",
    "        else:\n",
    "            negative_list.append(num)\n",
    "\n",
    "    # return positive_list, negative_list\n",
    "    print(f\"psitive integer list {sorted(positive_list)}.\")\n",
    "    print(f\"negative integer list {negative_list}.\")\n",
    "      \n",
    "\n",
    "user_input = [1, 2, 3, 4, 5, 6, -1, -2, -3, -4, -5, 0]\n",
    "pos_neg_num = sort_pos_neg(user_input)"
   ]
  },
  {
   "cell_type": "code",
   "execution_count": 33,
   "id": "1d735821-a454-4111-9332-e90119a3809c",
   "metadata": {},
   "outputs": [
    {
     "name": "stdout",
     "output_type": "stream",
     "text": [
      "psitive integer list [0, 1, 2, 3, 4, 5, 6].\n",
      "negative integer list [-1, -2, -3, -4, -5].\n"
     ]
    }
   ],
   "source": [
    "def sort_pos_neg(x):\n",
    "    positive_list = []\n",
    "    negative_list = []\n",
    "\n",
    "    for num in x:\n",
    "        if num >= 0:\n",
    "            positive_list.append(num)\n",
    "        else:\n",
    "            negative_list.append(num)\n",
    "\n",
    "    # return positive_list, negative_list\n",
    "    print(f\"psitive integer list {sorted(positive_list)}.\")\n",
    "    print(f\"negative integer list {negative_list}.\")\n",
    "      \n",
    "\n",
    "user_input = [1, 2, 3, 4, 5, 6, -1, -2, -3, -4, -5, 0]\n",
    "pos_neg_num = sort_pos_neg(user_input)"
   ]
  },
  {
   "cell_type": "code",
   "execution_count": 33,
   "id": "b8981a00-fbff-4b51-88b0-22fb4d0785af",
   "metadata": {},
   "outputs": [
    {
     "name": "stdout",
     "output_type": "stream",
     "text": [
      "psitive integer list [0, 1, 2, 3, 4, 5, 6].\n",
      "negative integer list [-1, -2, -3, -4, -5].\n"
     ]
    }
   ],
   "source": [
    "def sort_pos_neg(x):\n",
    "    positive_list = []\n",
    "    negative_list = []\n",
    "\n",
    "    for num in x:\n",
    "        if num >= 0:\n",
    "            positive_list.append(num)\n",
    "        else:\n",
    "            negative_list.append(num)\n",
    "\n",
    "    # return positive_list, negative_list\n",
    "    print(f\"psitive integer list {sorted(positive_list)}.\")\n",
    "    print(f\"negative integer list {negative_list}.\")\n",
    "      \n",
    "\n",
    "user_input = [1, 2, 3, 4, 5, 6, -1, -2, -3, -4, -5, 0]\n",
    "pos_neg_num = sort_pos_neg(user_input)"
   ]
  }
 ],
 "metadata": {
  "kernelspec": {
   "display_name": "Python 3 (ipykernel)",
   "language": "python",
   "name": "python3"
  },
  "language_info": {
   "codemirror_mode": {
    "name": "ipython",
    "version": 3
   },
   "file_extension": ".py",
   "mimetype": "text/x-python",
   "name": "python",
   "nbconvert_exporter": "python",
   "pygments_lexer": "ipython3",
   "version": "3.12.0"
  }
 },
 "nbformat": 4,
 "nbformat_minor": 5
}
